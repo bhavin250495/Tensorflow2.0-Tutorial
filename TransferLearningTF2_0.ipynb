{
  "nbformat": 4,
  "nbformat_minor": 0,
  "metadata": {
    "colab": {
      "name": "TransferLearningTF2.0.ipynb",
      "provenance": [],
      "collapsed_sections": [],
      "authorship_tag": "ABX9TyPAZ5c1UqzuRcLweLXMWMdu",
      "include_colab_link": true
    },
    "kernelspec": {
      "name": "python3",
      "display_name": "Python 3"
    },
    "accelerator": "GPU"
  },
  "cells": [
    {
      "cell_type": "markdown",
      "metadata": {
        "id": "view-in-github",
        "colab_type": "text"
      },
      "source": [
        "<a href=\"https://colab.research.google.com/github/bhavin250495/Tensorflow2.0-Tutorial/blob/master/TransferLearningTF2_0.ipynb\" target=\"_parent\"><img src=\"https://colab.research.google.com/assets/colab-badge.svg\" alt=\"Open In Colab\"/></a>"
      ]
    },
    {
      "cell_type": "code",
      "metadata": {
        "id": "SYoBVC21BBC6",
        "colab_type": "code",
        "colab": {
          "base_uri": "https://localhost:8080/",
          "height": 275
        },
        "outputId": "04e21862-a5ed-493c-bcce-a4275935534c"
      },
      "source": [
        "!wget 'https://storage.googleapis.com/kaggle-data-sets/207554/454322/bundle/archive.zip?GoogleAccessId=web-data@kaggle-161607.iam.gserviceaccount.com&Expires=1585395253&Signature=Vqj72E%2FUHzkP1Q02I2mgJVygBKtsn6wwoFYKXqhlbx3DKctKFgmqiDRLFdyKKFrFtnFQ3VVW6r8BrjkSjRCGeQJWik0QWvYkkBG4JVuGdjGRqdKsyDbDgejury2yXMX5QMDTU6TcEQc9Wi0pMv%2FLM%2FcQUL0JjPYViY6I%2BdzSdxTRO6MLnRngTlrIzYSkvjZQ8LmR34Me1niBuqrVwBp0sdMyHMEp87OQISrQZ5EH5UL31sCfT6MaNNWoNFALCb0py3qSaGzAEKEhYnye9NNOeFzUVbm0wfn2ZLgUsJZCvl8TgNF8p7yXOZdUKPaFPFq5lLNXEIPyzD4wdYXE%2F%2FtO2w%3D%3D&response-content-disposition=attachment%3B+filename%3Dfood5k.zip'\n",
        " "
      ],
      "execution_count": 1,
      "outputs": [
        {
          "output_type": "stream",
          "text": [
            "The name is too long, 518 chars total.\n",
            "Trying to shorten...\n",
            "New name is archive.zip?GoogleAccessId=web-data@kaggle-161607.iam.gserviceaccount.com&Expires=1585395253&Signature=Vqj72E%2FUHzkP1Q02I2mgJVygBKtsn6wwoFYKXqhlbx3DKctKFgmqiDRLFdyKKFrFtnFQ3VVW6r8BrjkSjRCGeQJWik0QWvYkkBG4JVuGdjGRqdKsyDbDgejury2yXMX5QMD.\n",
            "--2020-03-28 07:41:16--  https://storage.googleapis.com/kaggle-data-sets/207554/454322/bundle/archive.zip?GoogleAccessId=web-data@kaggle-161607.iam.gserviceaccount.com&Expires=1585395253&Signature=Vqj72E%2FUHzkP1Q02I2mgJVygBKtsn6wwoFYKXqhlbx3DKctKFgmqiDRLFdyKKFrFtnFQ3VVW6r8BrjkSjRCGeQJWik0QWvYkkBG4JVuGdjGRqdKsyDbDgejury2yXMX5QMDTU6TcEQc9Wi0pMv%2FLM%2FcQUL0JjPYViY6I%2BdzSdxTRO6MLnRngTlrIzYSkvjZQ8LmR34Me1niBuqrVwBp0sdMyHMEp87OQISrQZ5EH5UL31sCfT6MaNNWoNFALCb0py3qSaGzAEKEhYnye9NNOeFzUVbm0wfn2ZLgUsJZCvl8TgNF8p7yXOZdUKPaFPFq5lLNXEIPyzD4wdYXE%2F%2FtO2w%3D%3D&response-content-disposition=attachment%3B+filename%3Dfood5k.zip\n",
            "Resolving storage.googleapis.com (storage.googleapis.com)... 172.217.203.128, 2607:f8b0:400c:c07::80\n",
            "Connecting to storage.googleapis.com (storage.googleapis.com)|172.217.203.128|:443... connected.\n",
            "HTTP request sent, awaiting response... 200 OK\n",
            "Length: 894066580 (853M) [application/zip]\n",
            "Saving to: ‘archive.zip?GoogleAccessId=web-data@kaggle-161607.iam.gserviceaccount.com&Expires=1585395253&Signature=Vqj72E%2FUHzkP1Q02I2mgJVygBKtsn6wwoFYKXqhlbx3DKctKFgmqiDRLFdyKKFrFtnFQ3VVW6r8BrjkSjRCGeQJWik0QWvYkkBG4JVuGdjGRqdKsyDbDgejury2yXMX5QMD’\n",
            "\n",
            "archive.zip?GoogleA 100%[===================>] 852.65M   123MB/s    in 7.5s    \n",
            "\n",
            "2020-03-28 07:41:24 (114 MB/s) - ‘archive.zip?GoogleAccessId=web-data@kaggle-161607.iam.gserviceaccount.com&Expires=1585395253&Signature=Vqj72E%2FUHzkP1Q02I2mgJVygBKtsn6wwoFYKXqhlbx3DKctKFgmqiDRLFdyKKFrFtnFQ3VVW6r8BrjkSjRCGeQJWik0QWvYkkBG4JVuGdjGRqdKsyDbDgejury2yXMX5QMD’ saved [894066580/894066580]\n",
            "\n"
          ],
          "name": "stdout"
        }
      ]
    },
    {
      "cell_type": "code",
      "metadata": {
        "id": "2SRZmDRCBaiv",
        "colab_type": "code",
        "colab": {}
      },
      "source": [
        "!unzip 'archive.zip'"
      ],
      "execution_count": 0,
      "outputs": []
    },
    {
      "cell_type": "code",
      "metadata": {
        "id": "-0nenceSCPhH",
        "colab_type": "code",
        "colab": {}
      },
      "source": [
        "!mkdir train\n",
        "!mkdir test\n",
        "!mkdir train/nonfood\n",
        "!mkdir train/food\n",
        "!mkdir test/nonfood\n",
        "!mkdir test/food"
      ],
      "execution_count": 0,
      "outputs": []
    },
    {
      "cell_type": "code",
      "metadata": {
        "id": "xmNePIV4B00y",
        "colab_type": "code",
        "colab": {}
      },
      "source": [
        "!mv Food-5K/training/0*.jpg train/nonfood\n",
        "!mv Food-5K/training/1*.jpg train/food\n",
        "\n",
        "!mv Food-5K/validation/0*.jpg test/nonfood\n",
        "!mv Food-5K/validation/1*.jpg test/food\n"
      ],
      "execution_count": 0,
      "outputs": []
    },
    {
      "cell_type": "code",
      "metadata": {
        "id": "nzI2bUsYC0R3",
        "colab_type": "code",
        "colab": {}
      },
      "source": [
        "!pip install tensorflow==2.1"
      ],
      "execution_count": 0,
      "outputs": []
    },
    {
      "cell_type": "code",
      "metadata": {
        "id": "3u8gHMLfEmx0",
        "colab_type": "code",
        "outputId": "cfe70653-9c32-456c-8463-86f3423cdb2f",
        "colab": {
          "base_uri": "https://localhost:8080/",
          "height": 34
        }
      },
      "source": [
        "import tensorflow as tf\n",
        "tf.__version__"
      ],
      "execution_count": 6,
      "outputs": [
        {
          "output_type": "execute_result",
          "data": {
            "text/plain": [
              "'2.2.0-rc1'"
            ]
          },
          "metadata": {
            "tags": []
          },
          "execution_count": 6
        }
      ]
    },
    {
      "cell_type": "code",
      "metadata": {
        "id": "kk9OUBgcE-zq",
        "colab_type": "code",
        "colab": {}
      },
      "source": [
        "from tensorflow.keras.preprocessing import image\n",
        "from tensorflow.keras.applications.vgg16 import preprocess_input\n",
        "from tensorflow.keras.applications.vgg16 import VGG16\n",
        "import matplotlib.pyplot as plt\n",
        "from tensorflow.keras.models import Model\n",
        "from tensorflow.keras.layers import Flatten,Input,Dense\n",
        "import numpy as np\n",
        "\n"
      ],
      "execution_count": 0,
      "outputs": []
    },
    {
      "cell_type": "code",
      "metadata": {
        "id": "bua76UJYGLw1",
        "colab_type": "code",
        "colab": {}
      },
      "source": [
        "import glob\n",
        "IMAGE_SIZE = [200,200]\n",
        "image_files = glob.glob('train'+'/*/*.jpg')\n",
        "valid_files = glob.glob('test'+'/*/*.jpg')\n",
        "folders = glob.glob('train'+'/*')\n"
      ],
      "execution_count": 0,
      "outputs": []
    },
    {
      "cell_type": "code",
      "metadata": {
        "id": "g0rZF57DGqvX",
        "colab_type": "code",
        "colab": {
          "base_uri": "https://localhost:8080/",
          "height": 799
        },
        "outputId": "74540025-10b3-4701-bc7c-84663cdd982d"
      },
      "source": [
        "#Load trained model without input\n",
        "ptm = VGG16(input_shape = IMAGE_SIZE + [3] , weights = 'imagenet', include_top = False)\n",
        "ptm.summary()"
      ],
      "execution_count": 21,
      "outputs": [
        {
          "output_type": "stream",
          "text": [
            "Model: \"vgg16\"\n",
            "_________________________________________________________________\n",
            "Layer (type)                 Output Shape              Param #   \n",
            "=================================================================\n",
            "input_2 (InputLayer)         [(None, 200, 200, 3)]     0         \n",
            "_________________________________________________________________\n",
            "block1_conv1 (Conv2D)        (None, 200, 200, 64)      1792      \n",
            "_________________________________________________________________\n",
            "block1_conv2 (Conv2D)        (None, 200, 200, 64)      36928     \n",
            "_________________________________________________________________\n",
            "block1_pool (MaxPooling2D)   (None, 100, 100, 64)      0         \n",
            "_________________________________________________________________\n",
            "block2_conv1 (Conv2D)        (None, 100, 100, 128)     73856     \n",
            "_________________________________________________________________\n",
            "block2_conv2 (Conv2D)        (None, 100, 100, 128)     147584    \n",
            "_________________________________________________________________\n",
            "block2_pool (MaxPooling2D)   (None, 50, 50, 128)       0         \n",
            "_________________________________________________________________\n",
            "block3_conv1 (Conv2D)        (None, 50, 50, 256)       295168    \n",
            "_________________________________________________________________\n",
            "block3_conv2 (Conv2D)        (None, 50, 50, 256)       590080    \n",
            "_________________________________________________________________\n",
            "block3_conv3 (Conv2D)        (None, 50, 50, 256)       590080    \n",
            "_________________________________________________________________\n",
            "block3_pool (MaxPooling2D)   (None, 25, 25, 256)       0         \n",
            "_________________________________________________________________\n",
            "block4_conv1 (Conv2D)        (None, 25, 25, 512)       1180160   \n",
            "_________________________________________________________________\n",
            "block4_conv2 (Conv2D)        (None, 25, 25, 512)       2359808   \n",
            "_________________________________________________________________\n",
            "block4_conv3 (Conv2D)        (None, 25, 25, 512)       2359808   \n",
            "_________________________________________________________________\n",
            "block4_pool (MaxPooling2D)   (None, 12, 12, 512)       0         \n",
            "_________________________________________________________________\n",
            "block5_conv1 (Conv2D)        (None, 12, 12, 512)       2359808   \n",
            "_________________________________________________________________\n",
            "block5_conv2 (Conv2D)        (None, 12, 12, 512)       2359808   \n",
            "_________________________________________________________________\n",
            "block5_conv3 (Conv2D)        (None, 12, 12, 512)       2359808   \n",
            "_________________________________________________________________\n",
            "block5_pool (MaxPooling2D)   (None, 6, 6, 512)         0         \n",
            "=================================================================\n",
            "Total params: 14,714,688\n",
            "Trainable params: 14,714,688\n",
            "Non-trainable params: 0\n",
            "_________________________________________________________________\n"
          ],
          "name": "stdout"
        }
      ]
    },
    {
      "cell_type": "code",
      "metadata": {
        "id": "U3mL4rDeACNx",
        "colab_type": "code",
        "colab": {}
      },
      "source": [
        "#Freeze model weights \n",
        "ptm.trainable = False\n"
      ],
      "execution_count": 0,
      "outputs": []
    },
    {
      "cell_type": "code",
      "metadata": {
        "id": "1ERboEL3voW5",
        "colab_type": "code",
        "colab": {
          "base_uri": "https://localhost:8080/",
          "height": 867
        },
        "outputId": "dd9e6543-c1fc-4f89-b475-3d7301a53443"
      },
      "source": [
        "\n",
        "x = ptm.output\n",
        "x = Flatten()(x)\n",
        "op = Dense(2,activation = 'softmax')(x)\n",
        "model = Model(ptm.input,op)\n",
        "# model.complile(loss = 'categorical_crossentropy',optimizer='adam')\n",
        "model.summary()"
      ],
      "execution_count": 23,
      "outputs": [
        {
          "output_type": "stream",
          "text": [
            "Model: \"model_1\"\n",
            "_________________________________________________________________\n",
            "Layer (type)                 Output Shape              Param #   \n",
            "=================================================================\n",
            "input_2 (InputLayer)         [(None, 200, 200, 3)]     0         \n",
            "_________________________________________________________________\n",
            "block1_conv1 (Conv2D)        (None, 200, 200, 64)      1792      \n",
            "_________________________________________________________________\n",
            "block1_conv2 (Conv2D)        (None, 200, 200, 64)      36928     \n",
            "_________________________________________________________________\n",
            "block1_pool (MaxPooling2D)   (None, 100, 100, 64)      0         \n",
            "_________________________________________________________________\n",
            "block2_conv1 (Conv2D)        (None, 100, 100, 128)     73856     \n",
            "_________________________________________________________________\n",
            "block2_conv2 (Conv2D)        (None, 100, 100, 128)     147584    \n",
            "_________________________________________________________________\n",
            "block2_pool (MaxPooling2D)   (None, 50, 50, 128)       0         \n",
            "_________________________________________________________________\n",
            "block3_conv1 (Conv2D)        (None, 50, 50, 256)       295168    \n",
            "_________________________________________________________________\n",
            "block3_conv2 (Conv2D)        (None, 50, 50, 256)       590080    \n",
            "_________________________________________________________________\n",
            "block3_conv3 (Conv2D)        (None, 50, 50, 256)       590080    \n",
            "_________________________________________________________________\n",
            "block3_pool (MaxPooling2D)   (None, 25, 25, 256)       0         \n",
            "_________________________________________________________________\n",
            "block4_conv1 (Conv2D)        (None, 25, 25, 512)       1180160   \n",
            "_________________________________________________________________\n",
            "block4_conv2 (Conv2D)        (None, 25, 25, 512)       2359808   \n",
            "_________________________________________________________________\n",
            "block4_conv3 (Conv2D)        (None, 25, 25, 512)       2359808   \n",
            "_________________________________________________________________\n",
            "block4_pool (MaxPooling2D)   (None, 12, 12, 512)       0         \n",
            "_________________________________________________________________\n",
            "block5_conv1 (Conv2D)        (None, 12, 12, 512)       2359808   \n",
            "_________________________________________________________________\n",
            "block5_conv2 (Conv2D)        (None, 12, 12, 512)       2359808   \n",
            "_________________________________________________________________\n",
            "block5_conv3 (Conv2D)        (None, 12, 12, 512)       2359808   \n",
            "_________________________________________________________________\n",
            "block5_pool (MaxPooling2D)   (None, 6, 6, 512)         0         \n",
            "_________________________________________________________________\n",
            "flatten_1 (Flatten)          (None, 18432)             0         \n",
            "_________________________________________________________________\n",
            "dense_1 (Dense)              (None, 2)                 36866     \n",
            "=================================================================\n",
            "Total params: 14,751,554\n",
            "Trainable params: 36,866\n",
            "Non-trainable params: 14,714,688\n",
            "_________________________________________________________________\n"
          ],
          "name": "stdout"
        }
      ]
    },
    {
      "cell_type": "code",
      "metadata": {
        "id": "DcuHgARFwaTB",
        "colab_type": "code",
        "colab": {}
      },
      "source": [
        "gen = image.ImageDataGenerator(preprocessing_function=preprocess_input,\n",
        "                               rotation_range=20,\n",
        "                               width_shift_range=0.1,\n",
        "                               height_shift_range = 0.1,\n",
        "                               shear_range = 0.1,\n",
        "                               zoom_range = 0.2,\n",
        "                               horizontal_flip = True)"
      ],
      "execution_count": 0,
      "outputs": []
    },
    {
      "cell_type": "code",
      "metadata": {
        "id": "6C7inPg9BxlY",
        "colab_type": "code",
        "colab": {
          "base_uri": "https://localhost:8080/",
          "height": 51
        },
        "outputId": "f782effd-f13c-40cd-c385-520b23d82c1d"
      },
      "source": [
        "\n",
        "batch_size = 128\n",
        "\n",
        "train  = gen.flow_from_directory('train',shuffle=True,target_size=IMAGE_SIZE,batch_size=batch_size)\n",
        "test = gen.flow_from_directory('test',shuffle=True,target_size=IMAGE_SIZE,batch_size=batch_size)"
      ],
      "execution_count": 25,
      "outputs": [
        {
          "output_type": "stream",
          "text": [
            "Found 3000 images belonging to 2 classes.\n",
            "Found 1000 images belonging to 2 classes.\n"
          ],
          "name": "stdout"
        }
      ]
    },
    {
      "cell_type": "code",
      "metadata": {
        "id": "Lg_H2xg-BzY6",
        "colab_type": "code",
        "colab": {}
      },
      "source": [
        "model.compile(\n",
        "    loss = 'categorical_crossentropy',\n",
        "    optimizer = 'adam',\n",
        "    metrics = ['acc']\n",
        ")"
      ],
      "execution_count": 0,
      "outputs": []
    },
    {
      "cell_type": "code",
      "metadata": {
        "id": "Lj9ERJuBCPo7",
        "colab_type": "code",
        "colab": {
          "base_uri": "https://localhost:8080/",
          "height": 479
        },
        "outputId": "7561edc5-e835-464d-aae7-dcd2c64bafbe"
      },
      "source": [
        "r = model.fit_generator(train,\n",
        "                        validation_data = test,\n",
        "                        epochs = 5,\n",
        "                        steps_per_epoch = int(np.ceil(len(image_files)/batch_size)),\n",
        "                        validation_steps = int(np.ceil(len(valid_files)/batch_size)))"
      ],
      "execution_count": 27,
      "outputs": [
        {
          "output_type": "stream",
          "text": [
            "Epoch 1/5\n",
            "WARNING:tensorflow:AutoGraph could not transform <function Model.make_train_function.<locals>.train_function at 0x7f9d5a072840> and will run it as-is.\n",
            "Please report this to the TensorFlow team. When filing the bug, set the verbosity to 10 (on Linux, `export AUTOGRAPH_VERBOSITY=10`) and attach the full output.\n",
            "Cause: Unable to locate the source code of <function Model.make_train_function.<locals>.train_function at 0x7f9d5a072840>. Note that functions defined in certain environments, like the interactive Python shell do not expose their source code. If that is the case, you should to define them in a .py source file. If you are certain the code is graph-compatible, wrap the call using @tf.autograph.do_not_convert. Original error: could not get source code\n",
            "To silence this warning, decorate the function with @tf.autograph.experimental.do_not_convert\n",
            "WARNING: AutoGraph could not transform <function Model.make_train_function.<locals>.train_function at 0x7f9d5a072840> and will run it as-is.\n",
            "Please report this to the TensorFlow team. When filing the bug, set the verbosity to 10 (on Linux, `export AUTOGRAPH_VERBOSITY=10`) and attach the full output.\n",
            "Cause: Unable to locate the source code of <function Model.make_train_function.<locals>.train_function at 0x7f9d5a072840>. Note that functions defined in certain environments, like the interactive Python shell do not expose their source code. If that is the case, you should to define them in a .py source file. If you are certain the code is graph-compatible, wrap the call using @tf.autograph.do_not_convert. Original error: could not get source code\n",
            "To silence this warning, decorate the function with @tf.autograph.experimental.do_not_convert\n",
            "24/24 [==============================] - ETA: 0s - loss: 1.0523 - acc: 0.9407WARNING:tensorflow:AutoGraph could not transform <function Model.make_test_function.<locals>.test_function at 0x7f9d447449d8> and will run it as-is.\n",
            "Please report this to the TensorFlow team. When filing the bug, set the verbosity to 10 (on Linux, `export AUTOGRAPH_VERBOSITY=10`) and attach the full output.\n",
            "Cause: Unable to locate the source code of <function Model.make_test_function.<locals>.test_function at 0x7f9d447449d8>. Note that functions defined in certain environments, like the interactive Python shell do not expose their source code. If that is the case, you should to define them in a .py source file. If you are certain the code is graph-compatible, wrap the call using @tf.autograph.do_not_convert. Original error: could not get source code\n",
            "To silence this warning, decorate the function with @tf.autograph.experimental.do_not_convert\n",
            "WARNING: AutoGraph could not transform <function Model.make_test_function.<locals>.test_function at 0x7f9d447449d8> and will run it as-is.\n",
            "Please report this to the TensorFlow team. When filing the bug, set the verbosity to 10 (on Linux, `export AUTOGRAPH_VERBOSITY=10`) and attach the full output.\n",
            "Cause: Unable to locate the source code of <function Model.make_test_function.<locals>.test_function at 0x7f9d447449d8>. Note that functions defined in certain environments, like the interactive Python shell do not expose their source code. If that is the case, you should to define them in a .py source file. If you are certain the code is graph-compatible, wrap the call using @tf.autograph.do_not_convert. Original error: could not get source code\n",
            "To silence this warning, decorate the function with @tf.autograph.experimental.do_not_convert\n",
            "24/24 [==============================] - 63s 3s/step - loss: 1.0523 - acc: 0.9407 - val_loss: 0.9200 - val_acc: 0.9640\n",
            "Epoch 2/5\n",
            "24/24 [==============================] - 59s 2s/step - loss: 0.4766 - acc: 0.9757 - val_loss: 1.6336 - val_acc: 0.9430\n",
            "Epoch 3/5\n",
            "24/24 [==============================] - 59s 2s/step - loss: 0.3769 - acc: 0.9810 - val_loss: 0.8902 - val_acc: 0.9660\n",
            "Epoch 4/5\n",
            "24/24 [==============================] - 58s 2s/step - loss: 0.2677 - acc: 0.9873 - val_loss: 1.5097 - val_acc: 0.9520\n",
            "Epoch 5/5\n",
            "24/24 [==============================] - 58s 2s/step - loss: 0.3077 - acc: 0.9843 - val_loss: 1.0202 - val_acc: 0.9620\n"
          ],
          "name": "stdout"
        }
      ]
    },
    {
      "cell_type": "code",
      "metadata": {
        "id": "_taY6orICkDD",
        "colab_type": "code",
        "colab": {
          "base_uri": "https://localhost:8080/",
          "height": 282
        },
        "outputId": "32db207f-cff6-4cb2-9f62-de341d492b19"
      },
      "source": [
        "plt.plot(r.history['loss'],label = 'loss')\n",
        "plt.plot(r.history['val_loss'],label = 'val_loss')\n",
        "plt.legend()"
      ],
      "execution_count": 28,
      "outputs": [
        {
          "output_type": "execute_result",
          "data": {
            "text/plain": [
              "<matplotlib.legend.Legend at 0x7f9d445dfb70>"
            ]
          },
          "metadata": {
            "tags": []
          },
          "execution_count": 28
        },
        {
          "output_type": "display_data",
          "data": {
            "image/png": "[encoded data removed]",
            "text/plain": [
              "<Figure size 432x288 with 1 Axes>"
            ]
          },
          "metadata": {
            "tags": []
          }
        }
      ]
    },
    {
      "cell_type": "code",
      "metadata": {
        "id": "qBdNNNHMCpQf",
        "colab_type": "code",
        "colab": {
          "base_uri": "https://localhost:8080/",
          "height": 282
        },
        "outputId": "75dbe054-101f-4c29-df7e-ff6497c20033"
      },
      "source": [
        "plt.plot(r.history['acc'],label = 'acc')\n",
        "plt.plot(r.history['val_acc'],label = 'val_acc')\n",
        "plt.legend()"
      ],
      "execution_count": 30,
      "outputs": [
        {
          "output_type": "execute_result",
          "data": {
            "text/plain": [
              "<matplotlib.legend.Legend at 0x7f9d44040828>"
            ]
          },
          "metadata": {
            "tags": []
          },
          "execution_count": 30
        },
        {
          "output_type": "display_data",
          "data": {
            "image/png": "[encoded data removed]",
            "text/plain": [
              "<Figure size 432x288 with 1 Axes>"
            ]
          },
          "metadata": {
            "tags": []
          }
        }
      ]
    },
    {
      "cell_type": "code",
      "metadata": {
        "id": "x1-8MOOOIYKq",
        "colab_type": "code",
        "colab": {
          "base_uri": "https://localhost:8080/",
          "height": 88
        },
        "outputId": "c5ad56bd-f09f-4422-d848-cbabf0ca74a5"
      },
      "source": [
        "model.evaluate_generator(test)"
      ],
      "execution_count": 0,
      "outputs": [
        {
          "output_type": "stream",
          "text": [
            "WARNING:tensorflow:From <ipython-input-31-3393f2fb83ff>:1: Model.evaluate_generator (from tensorflow.python.keras.engine.training) is deprecated and will be removed in a future version.\n",
            "Instructions for updating:\n",
            "Please use Model.evaluate, which supports generators.\n"
          ],
          "name": "stdout"
        }
      ]
    },
    {
      "cell_type": "code",
      "metadata": {
        "id": "rbAoaVXWIfFo",
        "colab_type": "code",
        "colab": {}
      },
      "source": [
        ""
      ],
      "execution_count": 0,
      "outputs": []
    }
  ]
}